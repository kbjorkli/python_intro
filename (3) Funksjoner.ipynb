{
 "cells": [
  {
   "cell_type": "markdown",
   "metadata": {},
   "source": [
    "# Funksjoner\n",
    "\n",
    "Funksjoner i Python gir muligheten til å pakke store koder inn i én funksjonsvariabel. Funksjoner kan i teorien gjøre hva som helst Python ellers kan, avhengig kun av hvordan vi definerer dem. Vi har allerede fått bruk for noen av Pythons innebygde funksjoner, som *print* og *type*."
   ]
  },
  {
   "cell_type": "markdown",
   "metadata": {},
   "source": [
    "## Lage egendefinerte funksjoner og funksjonskall\n",
    "\n",
    "Vi kan lage vår egen funksjon ved bruk av syntaksen *def funksjonsnavn(argumenter):* . Alt som skal inn i funksjonsdefinisjonen må være indentert (dette skjer automatisk når du trykker Enter etter :, men du kan også bruke tab-knappen fra venstre marg). For å *kalle* funksjonen (kjøre den i koden) bruker vi bare syntaksen *funksjonsnavn(argumenter)*."
   ]
  },
  {
   "cell_type": "markdown",
   "metadata": {},
   "source": [
    "### Eksempel"
   ]
  },
  {
   "cell_type": "code",
   "execution_count": 1,
   "metadata": {},
   "outputs": [
    {
     "name": "stdout",
     "output_type": "stream",
     "text": [
      "Nå printer vi med min_funksjon()!\n"
     ]
    }
   ],
   "source": [
    "def min_funksjon():\n",
    "    print(\"Nå printer vi med min_funksjon!\")\n",
    "\n",
    "min_funksjon()  # Funksjonskall. Merk at denne funksjonen er argumentløs per definisjon, dvs. ingenting i parentesene."
   ]
  },
  {
   "cell_type": "markdown",
   "metadata": {},
   "source": [
    "## Argumenter\n",
    "\n",
    "I funksjonsdefinisjonen gir vi *funksjonsargumentene* i parentesene."
   ]
  },
  {
   "cell_type": "markdown",
   "metadata": {},
   "source": [
    "### Eksempel"
   ]
  },
  {
   "cell_type": "code",
   "execution_count": 2,
   "metadata": {},
   "outputs": [
    {
     "name": "stdout",
     "output_type": "stream",
     "text": [
      "6\n"
     ]
    }
   ],
   "source": [
    "def min_funksjon(argument1, argument2):\n",
    "    print(argument1*argument2)\n",
    "\n",
    "min_funksjon(2,3)"
   ]
  },
  {
   "cell_type": "markdown",
   "metadata": {},
   "source": [
    "Argumentene er *lokale variabler*, det vil si at de kun kan brukes inne i funksjonsdefinisjonen. Variabler skapt inne i funksjonen er også lokale, mens variabler definert utenfor funksjoner er *globale* og kan brukes overalt, inkludert inne i funksjonen."
   ]
  },
  {
   "cell_type": "markdown",
   "metadata": {},
   "source": [
    "### Eksempel"
   ]
  },
  {
   "cell_type": "code",
   "execution_count": 3,
   "metadata": {},
   "outputs": [
    {
     "name": "stdout",
     "output_type": "stream",
     "text": [
      "8\n"
     ]
    }
   ],
   "source": [
    "global_variabel = 5\n",
    "\n",
    "def min_funksjon():\n",
    "    lokal_variabel = 3\n",
    "    print(global_variabel+lokal_variabel)\n",
    "\n",
    "min_funksjon()"
   ]
  },
  {
   "cell_type": "markdown",
   "metadata": {},
   "source": [
    "Vi kan sette en \"standardverdi\" for et argument med syntaksen *def funksjon(argument = standardverdi):*. Denne kan overskrives i funksjonskallet, men hvis vi ikke da oppgir noe annet vil argumentet ta denne verdien. Skal vi overskrive 'ute av rekkefølge' må vi oppgi argumentvariabelen vi ønsker å endre med syntaksen *funksjon(..., argument = verdi)* i funksjonskallet."
   ]
  },
  {
   "cell_type": "markdown",
   "metadata": {},
   "source": [
    "### Eksempel"
   ]
  },
  {
   "cell_type": "code",
   "execution_count": 7,
   "metadata": {},
   "outputs": [
    {
     "name": "stdout",
     "output_type": "stream",
     "text": [
      "686.7 Newton\n",
      "686.6 Newton\n",
      "113.4 Newton\n"
     ]
    }
   ],
   "source": [
    "def vekt(masse, oppdrift = 0, g = 9.81):\n",
    "    vekt = masse*g - oppdrift\n",
    "    print(vekt, \"Newton\")\n",
    "\n",
    "vekt(70)            # Vekt på jorden\n",
    "vekt(70, 0.1)       # Vekt på jorden m/ atmosfæreoppdrift\n",
    "vekt(70, g = 1.62)  # Vekt på månen"
   ]
  },
  {
   "cell_type": "markdown",
   "metadata": {},
   "source": [
    "## *return*\n",
    "\n",
    "Et funksjonskall kan også gi en verdi, ved bruk av syntaksen *return verdi* på siste linje av funksjonsdefinisjonen."
   ]
  },
  {
   "cell_type": "markdown",
   "metadata": {},
   "source": [
    "### Eksempel"
   ]
  },
  {
   "cell_type": "code",
   "execution_count": 4,
   "metadata": {},
   "outputs": [
    {
     "name": "stdout",
     "output_type": "stream",
     "text": [
      "Ola Nordmann Jr.\n"
     ]
    }
   ],
   "source": [
    "def min_funksjon(navn):\n",
    "    return navn + \" Jr.\"\n",
    "\n",
    "verdi = min_funksjon(\"Ola Nordmann\")\n",
    "\n",
    "print(verdi)"
   ]
  },
  {
   "cell_type": "markdown",
   "metadata": {},
   "source": [
    "## Funksjon som variabel\n",
    "\n",
    "Vi kan også bruke en funksjon som variabel og derfor også som funksjonsargument. Variabelen *funksjonsnavn(argumenter)* tar verdien sin fra *return*-setningen, men for variabelen *funksjonsnavn* er selve funksjonen en egen variabel av datatypen *function*."
   ]
  },
  {
   "cell_type": "markdown",
   "metadata": {},
   "source": [
    "### Eksempel"
   ]
  },
  {
   "cell_type": "code",
   "execution_count": 4,
   "metadata": {},
   "outputs": [
    {
     "name": "stdout",
     "output_type": "stream",
     "text": [
      "<class 'int'>\n",
      "<class 'function'>\n"
     ]
    }
   ],
   "source": [
    "def f(x):\n",
    "    return x**2    # Python-funksjon som tilsvarer mattefunksjonen f(x) = x^2.\n",
    "\n",
    "print(type(f(2)))  # Funksjonskall gir datatypen fra return, i dette tilfellet 'int'\n",
    "print(type(f))     # Funksjonen selv er av typen 'function'"
   ]
  },
  {
   "cell_type": "markdown",
   "metadata": {},
   "source": [
    "En funksjon kan derfor bygge på andre funksjoner ved å ta dem som argument. Nedenfor demonstreres en funksjon \"*stigningstall*\" som beregner gjennomsnittlig stigningstall mellom to punkter *start* og *slutt* for en gitt matematisk funksjon \"*funksjon*\"."
   ]
  },
  {
   "cell_type": "markdown",
   "metadata": {},
   "source": [
    "### Eksempel"
   ]
  },
  {
   "cell_type": "code",
   "execution_count": 14,
   "metadata": {},
   "outputs": [
    {
     "name": "stdout",
     "output_type": "stream",
     "text": [
      "4.0\n"
     ]
    }
   ],
   "source": [
    "def g(x):\n",
    "    return x**3\n",
    "\n",
    "def stigningstall(funksjon, start, slutt):\n",
    "    dx = slutt-start\n",
    "    dy = funksjon(slutt)-funksjon(start)\n",
    "    return dy/dx\n",
    "\n",
    "print(stigningstall(g, 0, 2))  # Gjennomsnittlig stigningstall for g(x) = x^3 mellom 0 og 2."
   ]
  }
 ],
 "metadata": {
  "kernelspec": {
   "display_name": "Python 3",
   "language": "python",
   "name": "python3"
  },
  "language_info": {
   "codemirror_mode": {
    "name": "ipython",
    "version": 3
   },
   "file_extension": ".py",
   "mimetype": "text/x-python",
   "name": "python",
   "nbconvert_exporter": "python",
   "pygments_lexer": "ipython3",
   "version": "3.12.2"
  }
 },
 "nbformat": 4,
 "nbformat_minor": 2
}
