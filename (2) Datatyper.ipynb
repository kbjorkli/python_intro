{
 "cells": [
  {
   "cell_type": "markdown",
   "metadata": {},
   "source": [
    "# Datatyper\n",
    "\n",
    "Verdier i Python kan være av forskjellige *datatyper*. I (1) Variabler så vi eksempel på to av dem: *int*, heltall, og *float*, \"flyttall\" eller desimaltall. (Hvor og hvorfor fikk vi et flyttall?) Ettersom begge er representasjoner av tall, oppfører int og float seg ganske likt for programmereren. To andre viktige datatyper, som er helt annerledes, er *str* (tekst) og *bool* (boolske variabler, altså *True*/*False*)."
   ]
  },
  {
   "cell_type": "markdown",
   "metadata": {},
   "source": [
    "## Flyttall og komplekse tall\n",
    "\n",
    "Python kommer også med en datatype for komplekse tall *complex*. Heltall, flyttall og komplekse tall oppfører seg som forventet under vanlige regneoperasjoner i Python. Store og små flyttall vises på standardform med en 'e' som skiller mantissen og eksponenten. Altså printes for eksempel $1.23 \\cdot 10^4$ som 1.23e+4. Komplekse tall kan lages med syntaksen *a+bj*, der a og b er enten int- eller float-type."
   ]
  },
  {
   "cell_type": "markdown",
   "metadata": {},
   "source": [
    "### Eksempel"
   ]
  },
  {
   "cell_type": "code",
   "execution_count": 1,
   "metadata": {},
   "outputs": [
    {
     "name": "stdout",
     "output_type": "stream",
     "text": [
      "7.022348906602146e+24\n",
      "1.1215665478461509e-13\n",
      "(2+1.5j)\n"
     ]
    }
   ],
   "source": [
    "print(3.14**50)  # Stort flyttall\n",
    "print(1/12**12)  # Smått flyttal\n",
    "print(2+1.5j)    # Komplekst tall"
   ]
  },
  {
   "cell_type": "markdown",
   "metadata": {},
   "source": [
    "## Tekststrenger\n",
    "\n",
    "Vi kan bruke anførselsteng rundt en tekst til å skape en *tekststreng*, altså datatypen str. For str-datatypen betyr + *konkatenering*, altså å legge sammen to tekststrenger ende til ende."
   ]
  },
  {
   "cell_type": "markdown",
   "metadata": {},
   "source": [
    "### Eksempel"
   ]
  },
  {
   "cell_type": "code",
   "execution_count": 2,
   "metadata": {},
   "outputs": [
    {
     "name": "stdout",
     "output_type": "stream",
     "text": [
      "ja, vi elsker\n",
      "12\n",
      "3\n"
     ]
    }
   ],
   "source": [
    "print(\"ja, \" + \"vi elsker\")  # Konkatenering\n",
    "\n",
    "a = \"1\"     # str-type\n",
    "b = \"2\"\n",
    "\n",
    "x = 1       # int-type\n",
    "y = 2\n",
    "\n",
    "print(a+b)  # Konkatenering\n",
    "print(x+y)  # Addisjon\n",
    "\n",
    "# Forskjellen på betydningen av + kommer av de ulike datatypene!"
   ]
  },
  {
   "cell_type": "markdown",
   "metadata": {},
   "source": [
    "Vi kan ikke (vanligvis) gjøre operasjoner med variabler av forskjellige datatyper. For eksempel a+x i koden ovenfor ville gitt en feilmelding."
   ]
  },
  {
   "cell_type": "markdown",
   "metadata": {},
   "source": [
    "## Boolsk algebra\n",
    "Med bool-verdier kan vi utføre boolsk algebra. Altså *logiske operasjoner* (and, or, not) på *sannhetsverdier* (True/False)."
   ]
  },
  {
   "cell_type": "code",
   "execution_count": 3,
   "metadata": {},
   "outputs": [
    {
     "name": "stdout",
     "output_type": "stream",
     "text": [
      "False\n",
      "False\n",
      "True\n",
      "True\n"
     ]
    }
   ],
   "source": [
    "boolean = True  # Variabelnavn kan ikke være hva som helst, f.eks. True, False, and og or er allerede \"tatt\" i Python\n",
    "\n",
    "print(not boolean)\n",
    "print(True and False)\n",
    "print(True and True)\n",
    "print(True or False)"
   ]
  },
  {
   "cell_type": "markdown",
   "metadata": {},
   "source": [
    "## Bestemme datatype og *type*\n",
    "\n",
    "Vi kan bruke *str(variabel), int(variabel), og float(variabel)* for å angi en spesiell datatype for en verdi, og vi kan bruke type() for se hvilken datatype en variabel er."
   ]
  },
  {
   "cell_type": "markdown",
   "metadata": {},
   "source": [
    "### Eksempel"
   ]
  },
  {
   "cell_type": "code",
   "execution_count": 4,
   "metadata": {},
   "outputs": [
    {
     "name": "stdout",
     "output_type": "stream",
     "text": [
      "<class 'str'>\n",
      "<class 'int'>\n",
      "<class 'float'>\n"
     ]
    }
   ],
   "source": [
    "x = str(5)    # \"5\"\n",
    "y = int(5)    # 5\n",
    "z = float(5)  # 5.0\n",
    "\n",
    "print(type(x))\n",
    "print(type(y))\n",
    "print(type(z))"
   ]
  }
 ],
 "metadata": {
  "kernelspec": {
   "display_name": "Python 3",
   "language": "python",
   "name": "python3"
  },
  "language_info": {
   "codemirror_mode": {
    "name": "ipython",
    "version": 3
   },
   "file_extension": ".py",
   "mimetype": "text/x-python",
   "name": "python",
   "nbconvert_exporter": "python",
   "pygments_lexer": "ipython3",
   "version": "3.12.2"
  }
 },
 "nbformat": 4,
 "nbformat_minor": 2
}
