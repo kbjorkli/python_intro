{
 "cells": [
  {
   "cell_type": "markdown",
   "metadata": {},
   "source": [
    "# Lister & tupler\n",
    "\n",
    "Python kommer også med datatyper som består av samlinger av verdier. To viktige er *lister* og *tupler*."
   ]
  },
  {
   "cell_type": "markdown",
   "metadata": {},
   "source": [
    "## Lister og indeksering\n",
    "\n",
    "Lister kan skapes med syntaksen *listenavn = [element1, element2, ...]*. Lister kan inneholde en blanding av hvilke som helst datatyper, inkudert andre lister. Lister er *ordnete*; elementene står i den rekkefølgen man skriver dem inn i listen. For å hente et spesielt element kan vi bruke *indeksering*, altså å hente element etter plassen den har i rekkefølgen, med syntaksen *liste[indeks]*. En nyttig funksjon er *len*, som gir oss *lengden* (antallet elementer) til en liste."
   ]
  },
  {
   "cell_type": "markdown",
   "metadata": {},
   "source": [
    "### Eksempel"
   ]
  },
  {
   "cell_type": "code",
   "execution_count": 2,
   "metadata": {},
   "outputs": [
    {
     "name": "stdout",
     "output_type": "stream",
     "text": [
      "gul\n",
      "4\n"
     ]
    }
   ],
   "source": [
    "minliste = [3, \"gul\", True, \"rød\"]\n",
    "\n",
    "print(minliste[1])   # Vi teller fra og med 0, så indeks 1 f.eks. er andre element, ikke første!\n",
    "print(len(minliste))"
   ]
  },
  {
   "cell_type": "markdown",
   "metadata": {},
   "source": [
    "Vi kan også telle indekser 'bakfra' ved å bruke negative tall. Det siste elementet er da indeks -1, nest siste er -2 og så videre."
   ]
  },
  {
   "cell_type": "code",
   "execution_count": 7,
   "metadata": {},
   "outputs": [
    {
     "name": "stdout",
     "output_type": "stream",
     "text": [
      "True\n"
     ]
    }
   ],
   "source": [
    "minliste = [3, \"gul\", True, \"rød\"]\n",
    "\n",
    "print(minliste[-2])  # Nå teller vi fra og med -1, ikke \"-0\" (pga. at -0 = 0, som jo er første element!)"
   ]
  },
  {
   "cell_type": "markdown",
   "metadata": {},
   "source": [
    "## Slicing\n",
    "\n",
    "Vi kan lage en ny liste av et stykke av vår opprinnelige liste med såkalt *slicing*. Dette gjør vi med syntaksen *listenavn[start:slutt]*. Dette gir en liste fra og med indeks *start* til, men ikke med, indeks *slutt*. Oppgir vi ingen indeks før : begynner vi på indeks 0, oppgir vi ingen indeks etter : tar vi med alle indeksene etter *start*."
   ]
  },
  {
   "cell_type": "markdown",
   "metadata": {},
   "source": [
    "### Eksempel"
   ]
  },
  {
   "cell_type": "code",
   "execution_count": 9,
   "metadata": {},
   "outputs": [
    {
     "name": "stdout",
     "output_type": "stream",
     "text": [
      "['gul', True]\n",
      "['gul', True, 'rød']\n",
      "[3, 'gul', True]\n"
     ]
    }
   ],
   "source": [
    "minliste = [3, \"gul\", True, \"rød\"]\n",
    "\n",
    "print(minliste[1:-1])  # Liste fra og med indeks 1 til, men ikke med, indeks -1.\n",
    "print(minliste[1:])    # Liste fra og med indeks 1\n",
    "print(minliste[:3])    # Liste til, men ikke med, indeks 3"
   ]
  },
  {
   "cell_type": "markdown",
   "metadata": {},
   "source": [
    "## Endring av lister\n",
    "\n",
    "Vi kan endre ett element i en liste med syntaksen *listenavn[indeks] = verdi*, eller for en hel listeslice med *listenavn[start:slutt] = liste*. Syntaksen *listenavn[start:slutt] = liste* krever selvfølgelig en liste som er like lang som slicen."
   ]
  },
  {
   "cell_type": "markdown",
   "metadata": {},
   "source": [
    "### Eksempel"
   ]
  },
  {
   "cell_type": "code",
   "execution_count": 5,
   "metadata": {},
   "outputs": [
    {
     "name": "stdout",
     "output_type": "stream",
     "text": [
      "[2, 'blå', False, 'rød']\n"
     ]
    }
   ],
   "source": [
    "minliste = [3, \"gul\", True, \"rød\"]\n",
    "\n",
    "minliste[0] = 2\n",
    "minliste[1:3] = [\"blå\", False]  # Listeslicen på venstre side har lengde to, så listen på høyre må også ha to elementer.\n",
    "\n",
    "print(minliste)"
   ]
  },
  {
   "cell_type": "markdown",
   "metadata": {},
   "source": [
    "Vi kan *appendere* (legge til et element på slutten) en liste med *listenavn.append(element)*, eller legge til en verdi på en spesiell indeks med *listenavn.insert(indeks, element)*. Vi kan fjerne et element med *listenavn.pop(indeks)* (dersom vi ikke oppgir et argument i pop() fjernes siste element i listen)."
   ]
  },
  {
   "cell_type": "markdown",
   "metadata": {},
   "source": [
    "### Eksempel"
   ]
  },
  {
   "cell_type": "code",
   "execution_count": 8,
   "metadata": {},
   "outputs": [
    {
     "name": "stdout",
     "output_type": "stream",
     "text": [
      "[3, 'gul', True, 'rød', 0.5]\n",
      "[3, True, 'rød', 0.5]\n"
     ]
    }
   ],
   "source": [
    "minliste = [3, \"gul\", True, \"rød\"]\n",
    "minliste.append(0.5)\n",
    "print(minliste)\n",
    "\n",
    "minliste.pop(1)\n",
    "print(minliste)"
   ]
  },
  {
   "cell_type": "markdown",
   "metadata": {},
   "source": [
    "Vi kan konkatenere to lister med +, slik som for tekststrenger."
   ]
  },
  {
   "cell_type": "markdown",
   "metadata": {},
   "source": [
    "### Eksempel"
   ]
  },
  {
   "cell_type": "code",
   "execution_count": 10,
   "metadata": {},
   "outputs": [
    {
     "name": "stdout",
     "output_type": "stream",
     "text": [
      "[1, 2, 3, 'Alice', 'Bob', 'Charlie']\n"
     ]
    }
   ],
   "source": [
    "liste1 = [1, 2, 3]\n",
    "liste2 = [\"Alice\", \"Bob\", \"Charlie\"]\n",
    "\n",
    "print(liste1+liste2)"
   ]
  },
  {
   "cell_type": "markdown",
   "metadata": {},
   "source": [
    "## Tupler\n",
    "\n",
    "Tupler er i bunn og grunn som lister, bortsett fra at vi *ikke* kan endre på elementene. Vi kan fortsatt lage *nye* tupler med slicing, slik som for lister. Vi kan lage et tuppel med syntaksen *(element1, element2, ...)*, eller til og med bare *element1, element2, ...* . Teknisk sett har vi derfor brukt tupler hver gang vi skiller flere variabler med komma, som mellom funksjonsargumenter og lignende. Tupler kan, for eksempel, derfor brukes til å definere flere variabler på én linje."
   ]
  },
  {
   "cell_type": "markdown",
   "metadata": {},
   "source": [
    "### Eksempel"
   ]
  },
  {
   "cell_type": "code",
   "execution_count": 10,
   "metadata": {},
   "outputs": [
    {
     "name": "stdout",
     "output_type": "stream",
     "text": [
      "<class 'int'>\n",
      "<class 'tuple'>\n",
      "(1, 2)\n"
     ]
    }
   ],
   "source": [
    "a,b,c = 1,2,3\n",
    "d = 1,2,3\n",
    "\n",
    "print(type(a))  # a, b og c er elementer, derfor int-type\n",
    "print(type(d))  # d er hele tuppelet, derfor tuple-type\n",
    "\n",
    "slice = d[:-1]\n",
    "print(slice)"
   ]
  }
 ],
 "metadata": {
  "kernelspec": {
   "display_name": "Python 3",
   "language": "python",
   "name": "python3"
  },
  "language_info": {
   "codemirror_mode": {
    "name": "ipython",
    "version": 3
   },
   "file_extension": ".py",
   "mimetype": "text/x-python",
   "name": "python",
   "nbconvert_exporter": "python",
   "pygments_lexer": "ipython3",
   "version": "3.12.2"
  }
 },
 "nbformat": 4,
 "nbformat_minor": 2
}
