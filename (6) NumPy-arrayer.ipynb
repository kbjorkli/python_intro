{
 "cells": [
  {
   "cell_type": "markdown",
   "metadata": {},
   "source": [
    "# NumPy-arrayer\n",
    "\n",
    "NumPy-pakken kommer med en datatype som heter *ndarray* (kalt \"NumPy-array\" eller bare \"array\"), NumPy er bygd rundt denne datatypen. En NumPy-array har mange likheter med den vanlige listen fra Python, men er annerledes på to viktige vis: For det første, kan en NumPy-array kun inneholde elementer av én bestemt datatype, ikke en blanding. For det andre, tillater derfor arrayer regneoperasjoner som gjøres \"samtidig\" på alle elementene i arrayen"
   ]
  },
  {
   "cell_type": "markdown",
   "metadata": {},
   "source": [
    "## Lage NumPy-arrayer\n",
    "\n",
    "Vi kan begynne med å lage en NumPy-array fra en liste eller et tuppel (som kun inneholder elementer av samme datatype!) med *array*-funksjonen fra NumPy. Syntaksen er da *array(liste)*. Det er vanlig kutyme å importere NumPy-pakken under navnet \"np\"."
   ]
  },
  {
   "cell_type": "markdown",
   "metadata": {},
   "source": [
    "### Eksempel"
   ]
  },
  {
   "cell_type": "code",
   "execution_count": 2,
   "metadata": {},
   "outputs": [
    {
     "name": "stdout",
     "output_type": "stream",
     "text": [
      "[1 2 3 4 5]\n",
      "<class 'numpy.ndarray'>\n"
     ]
    }
   ],
   "source": [
    "import numpy as np\n",
    "\n",
    "arr = np.array([1,2,3,4,5])\n",
    "\n",
    "print(arr)\n",
    "print(type(arr))"
   ]
  },
  {
   "cell_type": "markdown",
   "metadata": {},
   "source": [
    "## Indeksering og slicing\n",
    "\n",
    "Vi kan indeksere og slice arrayer på samme måte som lister og tupler. Vi kan også slice slik at vi hopper over elementer med syntaksen *array[start, slutt, steg]*, der *steg* er et heltall som bestemmer med hvilket mellomrom vi tar med indekser i slicen, der 1 er hver, 2 er annenhver, 3 er hver tredje og så videre. (Dette fungerer også for lister og tupler!)"
   ]
  },
  {
   "cell_type": "markdown",
   "metadata": {},
   "source": [
    "### Eksempel"
   ]
  },
  {
   "cell_type": "code",
   "execution_count": 1,
   "metadata": {},
   "outputs": [
    {
     "name": "stdout",
     "output_type": "stream",
     "text": [
      "3\n",
      "[3 4 5]\n",
      "[3 5]\n"
     ]
    }
   ],
   "source": [
    "import numpy as np\n",
    "\n",
    "arr = np.array([1,2,3,4,5])\n",
    "\n",
    "print(arr[2])     # Indeksering\n",
    "print(arr[2:])    # Slice fra og med indeks 2\n",
    "print(arr[2::2])  # Slice med annenhvert element fra og med indeks 2"
   ]
  },
  {
   "cell_type": "markdown",
   "metadata": {},
   "source": [
    "## linspace og arange\n",
    "\n",
    "Vi får ofte bruk for arrayer bestående av tall med jevne mellomrom. NumPy-funksjonene *linspace* og *arange* gjør det enkelt å lage slike arrayer. Med *linspace* kan vi lage en array med *n* elementer mellom to punkter *start* og *stopp* med funksjonskallet *linspace(start, stopp, n)*. Med *arange* kan vi lage en array med elementer med et fast mellomrom *steg* mellom to punkter med *arange(start, stop, steg)*."
   ]
  },
  {
   "cell_type": "markdown",
   "metadata": {},
   "source": [
    "### Eksempel"
   ]
  },
  {
   "cell_type": "code",
   "execution_count": null,
   "metadata": {},
   "outputs": [
    {
     "name": "stdout",
     "output_type": "stream",
     "text": [
      "[-10.  -5.   0.   5.  10.]\n",
      "[-5 -4 -3 -2 -1  0  1  2  3  4]\n"
     ]
    }
   ],
   "source": [
    "import numpy as np\n",
    "\n",
    "arr1 = np.linspace(-10, 10, 5)\n",
    "arr2 = np.arange(-5, 5, 1)\n",
    "\n",
    "print(arr1)\n",
    "print(arr2)  # arange teller til, men ikke med, sluttpunktet 5"
   ]
  },
  {
   "cell_type": "markdown",
   "metadata": {},
   "source": [
    "## Regneoperasjoner med arrayer\n",
    "\n",
    "Den store fordelen med arrayer er at vi kan gjøre matematiske regneoperasjoner på dem direkte. Vi kan utføre de vanlige aritmetikkoperasjonene fra Python (+, -, *, /, **) på to arrayer (dersom de er like lange!) Når vi gjør dette blir regneoperasjonen utført *elementvis*, altså blir for eksempel *([a, b, ...]) + ([[A, B, ...]]) = ([a+A, b+B, ...])* (her brukes skrivemåten *([...])* til å symbolisere en array)."
   ]
  },
  {
   "cell_type": "markdown",
   "metadata": {},
   "source": [
    "### Eksempel"
   ]
  },
  {
   "cell_type": "code",
   "execution_count": null,
   "metadata": {},
   "outputs": [
    {
     "name": "stdout",
     "output_type": "stream",
     "text": [
      "[1, 2, 3, 4]\n",
      "[4 6]\n"
     ]
    }
   ],
   "source": [
    "import numpy as np\n",
    "\n",
    "liste1,liste2 = [1,2],[3,4]\n",
    "arr1,arr2 = np.array(liste1),np.array(liste2)\n",
    "\n",
    "print(liste1+liste2)  # + for lister tilsvarer konkatenering\n",
    "print(arr1+arr2)        # + for arrayer tilsvarer elementvis addisjon"
   ]
  },
  {
   "cell_type": "markdown",
   "metadata": {},
   "source": [
    "Vi kan også utføre regneoperasjoner mellom tall og arrayer, som tolkes som å gjøre operasjonen elementvis. Det vil si at for eksempel *n+([a,b, ...]) = ([n+a, n+b, ...])*."
   ]
  },
  {
   "cell_type": "markdown",
   "metadata": {},
   "source": [
    "### Eksempel"
   ]
  },
  {
   "cell_type": "code",
   "execution_count": null,
   "metadata": {},
   "outputs": [
    {
     "name": "stdout",
     "output_type": "stream",
     "text": [
      "[2 4 6 8]\n"
     ]
    }
   ],
   "source": [
    "arr = np.array([1,2,3,4])\n",
    "\n",
    "print(2*arr)"
   ]
  },
  {
   "cell_type": "markdown",
   "metadata": {},
   "source": [
    "NumPy-funksjoner fungerer på samme vis; de utføres elementvis. Altså er *np.funksjon([a,b, ...]) = ([np.funksjon(a), np.funksjon(b), ...])*."
   ]
  },
  {
   "cell_type": "markdown",
   "metadata": {},
   "source": [
    "### Eksempel"
   ]
  },
  {
   "cell_type": "code",
   "execution_count": null,
   "metadata": {},
   "outputs": [
    {
     "name": "stdout",
     "output_type": "stream",
     "text": [
      "[ 1.0000000e+00  6.1232340e-17 -1.0000000e+00 -1.8369702e-16\n",
      "  1.0000000e+00]\n",
      "[ 1.  0. -1. -0.  1.]\n"
     ]
    }
   ],
   "source": [
    "import numpy as np\n",
    "from numpy import pi\n",
    "\n",
    "arr = np.array([0,pi/2,pi,3*pi/2,2*pi])\n",
    "arr2 = np.cos(arr)\n",
    "\n",
    "print(arr2)\n",
    "print(np.round(arr2))  # np.round runder av til nærmeste heltall, eller til en gitt desimalplass hvis man oppgir det"
   ]
  }
 ],
 "metadata": {
  "kernelspec": {
   "display_name": "Python 3",
   "language": "python",
   "name": "python3"
  },
  "language_info": {
   "codemirror_mode": {
    "name": "ipython",
    "version": 3
   },
   "file_extension": ".py",
   "mimetype": "text/x-python",
   "name": "python",
   "nbconvert_exporter": "python",
   "pygments_lexer": "ipython3",
   "version": "3.12.2"
  }
 },
 "nbformat": 4,
 "nbformat_minor": 2
}
