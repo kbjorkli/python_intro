{
 "cells": [
  {
   "cell_type": "markdown",
   "metadata": {},
   "source": [
    "# Pakker\n",
    "\n",
    "Selv om Python har mange nyttige innebygde datatyper og funksjoner, finnes det et stort antall *pakker* som utvider Pythons funksjonalitet. Pakker må i utgangspunktet lastes ned, med mindre man får dem inkludert i en Python-distribusjon som *Anaconda*."
   ]
  },
  {
   "cell_type": "markdown",
   "metadata": {},
   "source": [
    "## *import* og *math*-pakken\n",
    "\n",
    "For å *importere* en pakke kan vi bruke syntaksen *import pakkenavn*. En verdi eller funksjon fra pakkeen kan hentes med syntaksen *pakkenavn.verdi/funksjon()*. *math* er en av Pythons innebygde pakker, som vi ikke trenger å laste ned. Den inneholder mange nyttige matematiske funksjoner og konstanter."
   ]
  },
  {
   "cell_type": "markdown",
   "metadata": {},
   "source": [
    "### Eksempel"
   ]
  },
  {
   "cell_type": "code",
   "execution_count": 4,
   "metadata": {},
   "outputs": [
    {
     "name": "stdout",
     "output_type": "stream",
     "text": [
      "3.141592653589793\n"
     ]
    }
   ],
   "source": [
    "import math\n",
    "print(math.pi)  # Sirkelkonstanten fra math-pakken"
   ]
  },
  {
   "cell_type": "markdown",
   "metadata": {},
   "source": [
    "For å gjøre koden litt mer lettlest, finnes det to syntakser til for pakkeimport. Den første syntaksen *import pakkenavn as kallenavn* lar oss korte ned pakkenavnet til et valgt 'kallenavn', mens syntaksen *from pakkenavn import funksjon/verdi* lar oss importere en funksjon direkte, så vi slipper å skrive *pakkenavn.* foran."
   ]
  },
  {
   "cell_type": "markdown",
   "metadata": {},
   "source": [
    "### Eksempel"
   ]
  },
  {
   "cell_type": "code",
   "execution_count": 7,
   "metadata": {},
   "outputs": [
    {
     "name": "stdout",
     "output_type": "stream",
     "text": [
      "1.0\n",
      "2.718281828459045\n"
     ]
    }
   ],
   "source": [
    "import math as m\n",
    "print(m.cos(0)) \n",
    "\n",
    "from math import e  # Eulers konstant\n",
    "print(e)"
   ]
  },
  {
   "cell_type": "markdown",
   "metadata": {},
   "source": [
    "## SciPy, NumPy og underpakker\n",
    "\n",
    " SciPy- og NumPy-pakkene inneholder mange nyttige (Python)funksjoner som kan hjelpe oss med å analysere matematiske funksjoner. Store pakker som SciPy har *underpakker*, som vi kan aksessere med syntaksen *pakke.underpakke*. SciPy-underpakken *Optimize* inneholder funksjonen *fsolve* som lar oss finne nærmeste rot (nullpunkt) for en gitt (matte)funksjon og et gitt punkt."
   ]
  },
  {
   "cell_type": "markdown",
   "metadata": {},
   "source": [
    "### Eksempel"
   ]
  },
  {
   "cell_type": "code",
   "execution_count": 3,
   "metadata": {},
   "outputs": [
    {
     "name": "stdout",
     "output_type": "stream",
     "text": [
      "[-1.57079632]\n"
     ]
    }
   ],
   "source": [
    "from scipy.optimize import fsolve\n",
    "from numpy import sin\n",
    "\n",
    "def f(x):\n",
    "  return sin(x) + 1\n",
    "\n",
    "start = -1  # Vi 'gjetter' på hvor nullpunktet er\n",
    "root = fsolve(f, start)\n",
    "\n",
    "print(root)  # Nærmeste rot er -pi/2, som bekreftet av fsolve"
   ]
  }
 ],
 "metadata": {
  "kernelspec": {
   "display_name": "Python 3",
   "language": "python",
   "name": "python3"
  },
  "language_info": {
   "codemirror_mode": {
    "name": "ipython",
    "version": 3
   },
   "file_extension": ".py",
   "mimetype": "text/x-python",
   "name": "python",
   "nbconvert_exporter": "python",
   "pygments_lexer": "ipython3",
   "version": "3.12.2"
  }
 },
 "nbformat": 4,
 "nbformat_minor": 2
}
