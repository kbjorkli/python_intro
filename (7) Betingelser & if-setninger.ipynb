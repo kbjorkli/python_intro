{
 "cells": [
  {
   "cell_type": "markdown",
   "metadata": {},
   "source": [
    "# Betingelser & if-setninger"
   ]
  },
  {
   "cell_type": "markdown",
   "metadata": {},
   "source": [
    "## Betingelser\n",
    "\n",
    "En *betingelse* er egentlig bare en boolsk verdi, det vil si enten verdien *True* eller *False*. Vi kan bruke *binære relasjoner* som *<*, *<=*, *==* og *!=* mellom tall til å skape slike boolske verdier eller betingelser."
   ]
  },
  {
   "cell_type": "markdown",
   "metadata": {},
   "source": [
    "### Eksempel"
   ]
  },
  {
   "cell_type": "code",
   "execution_count": 10,
   "metadata": {},
   "outputs": [
    {
     "name": "stdout",
     "output_type": "stream",
     "text": [
      "False\n",
      "True\n",
      "False\n",
      "True\n"
     ]
    }
   ],
   "source": [
    "print(5 < 5)    # < betyr mindre enn, > er større enn\n",
    "print(5 <= 5)   # <= betyr mindre enn eller lik, >= er større enn eller lik\n",
    "print(1 == 2)   # == betyr lik (ikke til forveksling med én =, som gir en variabel sin verdi!)\n",
    "print(-1 != 1)  # != betyr ikke lik"
   ]
  },
  {
   "cell_type": "markdown",
   "metadata": {},
   "source": [
    "Vi kan også kombinere enkle betingelser for å lage sammensatte betingelser med bruk av de boolske operasjonene *not*, *and* og *or*."
   ]
  },
  {
   "cell_type": "markdown",
   "metadata": {},
   "source": [
    "### Eksempel"
   ]
  },
  {
   "cell_type": "code",
   "execution_count": 9,
   "metadata": {},
   "outputs": [
    {
     "name": "stdout",
     "output_type": "stream",
     "text": [
      "True\n",
      "True\n",
      "False\n"
     ]
    }
   ],
   "source": [
    "print(not -1 > 1)\n",
    "print(5 < 5 or 5 >= 5)\n",
    "print(1 == 1 and 1 > 1)"
   ]
  },
  {
   "cell_type": "markdown",
   "metadata": {},
   "source": [
    "## If-setinger\n",
    "\n",
    "Vi kan bruke syntaksen *if betingelse:* for å lage en if-setning. Koden i en if-setning kjøres kun hvis betingelsen er True, hvis ikke hoppes den over. Innholdet i en if-setning er indentert, slik som for funksjoner og lignende."
   ]
  },
  {
   "cell_type": "markdown",
   "metadata": {},
   "source": [
    "### Eksempel"
   ]
  },
  {
   "cell_type": "code",
   "execution_count": 5,
   "metadata": {},
   "outputs": [
    {
     "name": "stdout",
     "output_type": "stream",
     "text": [
      "1\n"
     ]
    }
   ],
   "source": [
    "a = 1\n",
    "\n",
    "if a > 2: # a er ikke større enn 2, så innholdet i if-setningen hoppes over.\n",
    "    print(\"a er større enn 2!\")"
   ]
  },
  {
   "cell_type": "markdown",
   "metadata": {},
   "source": [
    "Vi kan bruker syntaksene *elif betingelse:* og *else:* til å utvide if-setningen. Med *elif* kan vi gi yttligere betingelser med eget kodeinnhold. *else:* er den siste tingen som eventuelt føres i en if-setning, den angir kom som utføres hvis ingen av de tidligere betingelsene var sanne."
   ]
  },
  {
   "cell_type": "markdown",
   "metadata": {},
   "source": [
    "### Eksempel"
   ]
  },
  {
   "cell_type": "code",
   "execution_count": 6,
   "metadata": {},
   "outputs": [
    {
     "name": "stdout",
     "output_type": "stream",
     "text": [
      "a er mindre enn 2!\n"
     ]
    }
   ],
   "source": [
    "a = 1\n",
    "\n",
    "if a > 2:\n",
    "    print(\"a er større enn 2!\")\n",
    "elif a == 2:\n",
    "    print(\"a er lik 2!\")\n",
    "else:\n",
    "    print(\"a er mindre enn 2!\")\n"
   ]
  }
 ],
 "metadata": {
  "kernelspec": {
   "display_name": "Python 3",
   "language": "python",
   "name": "python3"
  },
  "language_info": {
   "codemirror_mode": {
    "name": "ipython",
    "version": 3
   },
   "file_extension": ".py",
   "mimetype": "text/x-python",
   "name": "python",
   "nbconvert_exporter": "python",
   "pygments_lexer": "ipython3",
   "version": "3.12.2"
  }
 },
 "nbformat": 4,
 "nbformat_minor": 2
}
