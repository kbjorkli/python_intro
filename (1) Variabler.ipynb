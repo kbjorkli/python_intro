{
 "cells": [
  {
   "cell_type": "markdown",
   "metadata": {},
   "source": [
    "# Variabler\n",
    "\n",
    "*Variabler* er grunnleggende for all kode i Python. Variabler lagrer *verdier* som tall, tekst og andre Python-*objekter*, under et gitt variabelnavn, som vi så kan bruke videre i koden vår."
   ]
  },
  {
   "cell_type": "markdown",
   "metadata": {},
   "source": [
    "## Skape variabler og *print*\n",
    "\n",
    "For å lage en variabel bruker vi syntaksen *variabelnavn = variabelverdi*. For å se verdien til en variabel kan vi bruke *print(variabelnavn)*."
   ]
  },
  {
   "cell_type": "markdown",
   "metadata": {},
   "source": [
    "### Eksempel"
   ]
  },
  {
   "cell_type": "code",
   "execution_count": 5,
   "metadata": {},
   "outputs": [
    {
     "name": "stdout",
     "output_type": "stream",
     "text": [
      "5\n"
     ]
    }
   ],
   "source": [
    "a = 5\n",
    "print(a)"
   ]
  },
  {
   "cell_type": "markdown",
   "metadata": {},
   "source": [
    "Vi kan også selvfølgelig printe en verdi direkte."
   ]
  },
  {
   "cell_type": "markdown",
   "metadata": {},
   "source": [
    "### Eksempel"
   ]
  },
  {
   "cell_type": "code",
   "execution_count": 6,
   "metadata": {},
   "outputs": [
    {
     "name": "stdout",
     "output_type": "stream",
     "text": [
      "6\n"
     ]
    }
   ],
   "source": [
    "print(6)"
   ]
  },
  {
   "cell_type": "markdown",
   "metadata": {},
   "source": [
    "## Regneoperasjoner og kommentarer\n",
    "\n",
    "Python er utrustet med mange av de vanlige regneoperasjonene fra matematikk. Vi kan bruke disse til å gjøre aritmetikk med verdiene og variablene våre. Kommentarer i koden kan legges inn etter #."
   ]
  },
  {
   "cell_type": "markdown",
   "metadata": {},
   "source": [
    "### Eksempel"
   ]
  },
  {
   "cell_type": "code",
   "execution_count": 7,
   "metadata": {},
   "outputs": [
    {
     "name": "stdout",
     "output_type": "stream",
     "text": [
      "6 8 2 2.0 16\n"
     ]
    }
   ],
   "source": [
    "a = 1+3\n",
    "b = 2\n",
    "\n",
    "c = a+b   # Addisjon\n",
    "d = a*b   # Ganging\n",
    "e = a-b   # Subtraksjon\n",
    "f = a/b   # Deling\n",
    "g = a**b  # Potens\n",
    "\n",
    "print(c,d,e,f,g)\n",
    "\n"
   ]
  },
  {
   "cell_type": "markdown",
   "metadata": {},
   "source": [
    "## Redefinere variabler\n",
    "\n",
    "Vi kan altså bruke variabler til å definere nye variabler, men vi kan i tillegg *redefinere* variabler (gi dem en ny verdi), også med bruk av variabelen selv! Koden leses topp til bunn og **høyre til venstre**, med tanke på variabel-verdier."
   ]
  },
  {
   "cell_type": "markdown",
   "metadata": {},
   "source": [
    "### Eksempel"
   ]
  },
  {
   "cell_type": "code",
   "execution_count": 8,
   "metadata": {},
   "outputs": [
    {
     "name": "stdout",
     "output_type": "stream",
     "text": [
      "10\n"
     ]
    }
   ],
   "source": [
    "a = 5\n",
    "a = 7    # Redefinisjon av a fra verdien 5 til 7\n",
    "a = a*2  # Variabelen a på høyresiden av = er verdien fra før (7), mens a på venstresiden blir den nye verdien (14)\n",
    "\n",
    "print(a)"
   ]
  }
 ],
 "metadata": {
  "kernelspec": {
   "display_name": "Python 3",
   "language": "python",
   "name": "python3"
  },
  "language_info": {
   "codemirror_mode": {
    "name": "ipython",
    "version": 3
   },
   "file_extension": ".py",
   "mimetype": "text/x-python",
   "name": "python",
   "nbconvert_exporter": "python",
   "pygments_lexer": "ipython3",
   "version": "3.12.2"
  }
 },
 "nbformat": 4,
 "nbformat_minor": 2
}
